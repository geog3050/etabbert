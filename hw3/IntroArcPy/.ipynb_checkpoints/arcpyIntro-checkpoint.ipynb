{
 "cells": [
  {
   "cell_type": "code",
   "execution_count": 24,
   "metadata": {},
   "outputs": [],
   "source": [
    "import arcpy"
   ]
  },
  {
   "cell_type": "code",
   "execution_count": 26,
   "metadata": {},
   "outputs": [],
   "source": [
    "import os"
   ]
  },
  {
   "cell_type": "code",
   "execution_count": 33,
   "metadata": {},
   "outputs": [],
   "source": [
    "arcpy.env.workspace = \"C:/Users/etabbert/OneDrive - University of Iowa/Documents/GIS Projects/Data/chp9Data/\""
   ]
  },
  {
   "cell_type": "code",
   "execution_count": 50,
   "metadata": {},
   "outputs": [],
   "source": [
    "arcpy.env.overwriteOutput = True"
   ]
  },
  {
   "cell_type": "code",
   "execution_count": 34,
   "metadata": {},
   "outputs": [],
   "source": [
    "featureclasses = arcpy.ListFeatureClasses()"
   ]
  },
  {
   "cell_type": "code",
   "execution_count": 51,
   "metadata": {},
   "outputs": [
    {
     "name": "stdout",
     "output_type": "stream",
     "text": [
      "amtk_sta_50Meters\n",
      "Partial_Streets_50Meters\n",
      "railway_50Meters\n",
      "school_50Meters\n"
     ]
    }
   ],
   "source": [
    "for fc in featureclasses:\n",
    "    if \"buffer\" not in fc and \"states\" not in fc:\n",
    "        bufferValue = 50\n",
    "        bufferUnit = \"Meters\"\n",
    "        inputfc = fc[:-4]\n",
    "        outputfc = inputfc + \"_\" + str(bufferValue) + bufferUnit\n",
    "        print(outputfc)\n",
    "        arcpy.Buffer_analysis(fc, outputfc, str(bufferValue) + \" \" + bufferUnit, \"#\", \"#\", \"ALL\")"
   ]
  },
  {
   "cell_type": "code",
   "execution_count": null,
   "metadata": {},
   "outputs": [],
   "source": []
  }
 ],
 "metadata": {
  "kernelspec": {
   "display_name": "ArcGISPro",
   "language": "Python",
   "name": "python3"
  },
  "language_info": {
   "file_extension": ".py",
   "name": "python",
   "version": "3"
  }
 },
 "nbformat": 4,
 "nbformat_minor": 2
}
