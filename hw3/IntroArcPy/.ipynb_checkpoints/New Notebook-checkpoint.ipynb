{
 "cells": [
  {
   "cell_type": "code",
   "execution_count": 115,
   "metadata": {},
   "outputs": [],
   "source": [
    "import arcpy\n",
    "import os"
   ]
  },
  {
   "cell_type": "code",
   "execution_count": 116,
   "metadata": {},
   "outputs": [],
   "source": [
    "arcpy.env.workspace = \"C:/Users/Ethan/Desktop/quiz6/quiz5.gdb\""
   ]
  },
  {
   "cell_type": "code",
   "execution_count": 117,
   "metadata": {},
   "outputs": [],
   "source": [
    "arcpy.env.overwriteOutput = True"
   ]
  },
  {
   "cell_type": "code",
   "execution_count": 118,
   "metadata": {},
   "outputs": [
    {
     "data": {
      "text/html": [
       "<div class='gpresult'><h2>Messages</h2><div id='messages' data-messages='[\"Start Time: Monday, April 4, 2022 11:15:58 PM\",\"Succeeded at Monday, April 4, 2022 11:16:04 PM (Elapsed Time: 5.76 seconds)\"]' data-show='true'><div id = 'default' /></div></div>"
      ],
      "text/plain": [
       "<Result 'C:/Users/Ethan/Desktop/quiz6/quiz5.gdb\\\\percent_AinB'>"
      ]
     },
     "execution_count": 118,
     "metadata": {},
     "output_type": "execute_result"
    }
   ],
   "source": [
    "arcpy.SummarizeWithin_analysis(\"parks\", \"block_groups\", \"percent_AinB\", \"#\", \"#\", \"#\", \"#\", \"#\", \"#\", \"ADD_PERCENT\", \"#\")"
   ]
  },
  {
   "cell_type": "code",
   "execution_count": 119,
   "metadata": {},
   "outputs": [
    {
     "data": {
      "text/html": [
       "<div class='gpresult'><h2>Messages</h2><div id='messages' data-messages='[\"Start Time: Monday, April 4, 2022 11:16:05 PM\",\"Adding parkAreaPercent to percent_AinB...\",\"Succeeded at Monday, April 4, 2022 11:16:05 PM (Elapsed Time: 0.07 seconds)\"]' data-show='true'><div id = 'default' /></div></div>"
      ],
      "text/plain": [
       "<Result 'percent_AinB'>"
      ]
     },
     "execution_count": 119,
     "metadata": {},
     "output_type": "execute_result"
    }
   ],
   "source": [
    "arcpy.AddField_management(\"percent_AinB\", \"parkAreaPercent\", \"DOUBLE\")"
   ]
  },
  {
   "cell_type": "code",
   "execution_count": 120,
   "metadata": {},
   "outputs": [],
   "source": [
    "#arcpy.management.JoinField(\"block_groups\", )"
   ]
  },
  {
   "cell_type": "code",
   "execution_count": 121,
   "metadata": {},
   "outputs": [],
   "source": [
    "cursor = arcpy.UpdateCursor(\"percent_AinB\")"
   ]
  },
  {
   "cell_type": "code",
   "execution_count": 122,
   "metadata": {},
   "outputs": [],
   "source": [
    "for row in cursor:\n",
    "    areaPercent = row.getValue(\"sum_Area_SQUAREKILOMETERS\")\n",
    "    area = row.getValue(\"Shape_Area\")\n",
    "    \n",
    "    percent = 100 * areaPercent / area\n",
    "    \n",
    "    row.setValue(\"parkAreaPercent\", percent)\n",
    "    \n",
    "    cursor.updateRow(row)"
   ]
  },
  {
   "cell_type": "code",
   "execution_count": null,
   "metadata": {},
   "outputs": [],
   "source": []
  }
 ],
 "metadata": {
  "kernelspec": {
   "display_name": "ArcGISPro",
   "language": "Python",
   "name": "python3"
  },
  "language_info": {
   "file_extension": ".py",
   "name": "python",
   "version": "3"
  }
 },
 "nbformat": 4,
 "nbformat_minor": 2
}
