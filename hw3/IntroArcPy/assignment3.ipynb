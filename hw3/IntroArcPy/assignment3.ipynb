{
 "cells": [
  {
   "cell_type": "code",
   "execution_count": 2,
   "metadata": {},
   "outputs": [],
   "source": [
    "import arcpy"
   ]
  },
  {
   "cell_type": "code",
   "execution_count": 3,
   "metadata": {},
   "outputs": [],
   "source": [
    "import os"
   ]
  },
  {
   "cell_type": "code",
   "execution_count": 4,
   "metadata": {},
   "outputs": [],
   "source": [
    "arcpy.env.overwriteOutput = True"
   ]
  },
  {
   "cell_type": "code",
   "execution_count": 5,
   "metadata": {},
   "outputs": [
    {
     "name": "stdout",
     "output_type": "stream",
     "text": [
      "C:\\Users\\etabbert\\OneDrive - University of Iowa\\Documents\\GIS Projects\\IntroArcPy\n"
     ]
    }
   ],
   "source": [
    "currentFolder = os.getcwd()\n",
    "print(currentFolder)"
   ]
  },
  {
   "cell_type": "code",
   "execution_count": 6,
   "metadata": {},
   "outputs": [],
   "source": [
    "mygdb = \"C:/Users/etabbert/OneDrive - University of Iowa/Documents/GIS Projects/Data/Assignment3/polygons.gdb\""
   ]
  },
  {
   "cell_type": "code",
   "execution_count": 7,
   "metadata": {},
   "outputs": [],
   "source": [
    "dir_path = os.path.dirname(os.path.realpath(mygdb))"
   ]
  },
  {
   "cell_type": "code",
   "execution_count": 8,
   "metadata": {},
   "outputs": [
    {
     "name": "stdout",
     "output_type": "stream",
     "text": [
      "Directory: C:\\Users\\etabbert\\OneDrive - University of Iowa\\Documents\\GIS Projects\\Data\\Assignment3\n",
      "Filename: polygons.gdb\n"
     ]
    }
   ],
   "source": [
    "outgdb = os.path.basename(mygdb)\n",
    "print(\"Directory:\", dir_path)\n",
    "print(\"Filename:\", outgdb)"
   ]
  },
  {
   "cell_type": "code",
   "execution_count": 9,
   "metadata": {},
   "outputs": [
    {
     "data": {
      "text/html": [
       "<h2>Output</h2>C:\\Users\\etabbert\\OneDrive - University of Iowa\\Documents\\GIS Projects\\Data\\Assignment3\\polygons.gdb<h2>Messages</h2>Start Time: Wednesday, March 23, 2022 1:40:04 PM<br/>Succeeded at Wednesday, March 23, 2022 1:40:04 PM (Elapsed Time: 0.21 seconds)<br/><style>.rendered_html td, .rendered_html th {text-align: left;}.rendered_html tbody {border: 1px solid black;}</style>"
      ],
      "text/plain": [
       "<Result 'C:\\\\Users\\\\etabbert\\\\OneDrive - University of Iowa\\\\Documents\\\\GIS Projects\\\\Data\\\\Assignment3\\\\polygons.gdb'>"
      ]
     },
     "execution_count": 9,
     "metadata": {},
     "output_type": "execute_result"
    }
   ],
   "source": [
    "arcpy.CreateFileGDB_management(dir_path, outgdb)"
   ]
  },
  {
   "cell_type": "code",
   "execution_count": 10,
   "metadata": {},
   "outputs": [],
   "source": [
    "arcpy.env.workspace = \"C:/Users/etabbert/OneDrive - University of Iowa/Documents/GIS Projects/Data/Assignment3/hw3.gdb\""
   ]
  },
  {
   "cell_type": "code",
   "execution_count": 16,
   "metadata": {},
   "outputs": [],
   "source": [
    "featureClasses = arcpy.ListFeatureClasses()"
   ]
  },
  {
   "cell_type": "code",
   "execution_count": 17,
   "metadata": {},
   "outputs": [
    {
     "name": "stdout",
     "output_type": "stream",
     "text": [
      "bike_routes\n",
      "facilities\n",
      "hospitals\n",
      "parks\n",
      "zip_areas\n",
      "block_groups\n",
      "gdb\n"
     ]
    }
   ],
   "source": [
    "for fc in featureClasses:\n",
    "    print(fc)"
   ]
  },
  {
   "cell_type": "code",
   "execution_count": 18,
   "metadata": {},
   "outputs": [
    {
     "name": "stdout",
     "output_type": "stream",
     "text": [
      "parks is type polygon\n",
      "zip_areas is type polygon\n",
      "block_groups is type polygon\n"
     ]
    },
    {
     "ename": "AttributeError",
     "evalue": "DescribeData: Method shapeType does not exist",
     "output_type": "error",
     "traceback": [
      "\u001b[0;31m---------------------------------------------------------------------------\u001b[0m\n\u001b[0;31mAttributeError\u001b[0m                            Traceback (most recent call last)",
      "In  \u001b[0;34m[18]\u001b[0m:\nLine \u001b[0;34m3\u001b[0m:     \u001b[34mif\u001b[39;49;00m obj.shapeType == \u001b[33m\"\u001b[39;49;00m\u001b[33mPolygon\u001b[39;49;00m\u001b[33m\"\u001b[39;49;00m:\n",
      "\u001b[0;31mAttributeError\u001b[0m: DescribeData: Method shapeType does not exist\n\u001b[0;31m---------------------------------------------------------------------------\u001b[0m"
     ]
    }
   ],
   "source": [
    "for fc in featureClasses:\n",
    "    obj = arcpy.Describe(fc)\n",
    "    if obj.shapeType == \"Polygon\":\n",
    "        print(fc, \"is type polygon\")\n",
    "        arcpy.CopyFeatures_management(fc, (mygdb + \"/polygons\"))"
   ]
  },
  {
   "cell_type": "code",
   "execution_count": null,
   "metadata": {},
   "outputs": [],
   "source": [
    "#https://pro.arcgis.com/en/pro-app/2.8/tool-reference/data-management/add-join.htm"
   ]
  },
  {
   "cell_type": "code",
   "execution_count": null,
   "metadata": {},
   "outputs": [],
   "source": [
    "arcpy.AddField_management(\"block_groups\", \"areasqm\", \"DOUBLE\")"
   ]
  },
  {
   "cell_type": "code",
   "execution_count": null,
   "metadata": {},
   "outputs": [],
   "source": [
    "arcpy.CalculationGeometryAttributes_management(\"block_groups\", [[\"areasqm\", \"AREA\"]], \"MILES_US\", )"
   ]
  }
 ],
 "metadata": {
  "kernelspec": {
   "display_name": "ArcGISPro",
   "language": "Python",
   "name": "python3"
  },
  "language_info": {
   "file_extension": ".py",
   "name": "python",
   "version": "3"
  }
 },
 "nbformat": 4,
 "nbformat_minor": 2
}
