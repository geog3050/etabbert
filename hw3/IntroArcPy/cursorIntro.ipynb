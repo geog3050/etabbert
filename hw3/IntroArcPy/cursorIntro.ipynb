{
 "cells": [
  {
   "cell_type": "code",
   "execution_count": 1,
   "metadata": {},
   "outputs": [],
   "source": [
    "import arcpy"
   ]
  },
  {
   "cell_type": "code",
   "execution_count": 11,
   "metadata": {},
   "outputs": [],
   "source": [
    "arcpy.env.workspace = \"C:/Users/etabbert/OneDrive - University of Iowa/Documents/GIS Projects/Data/chp9Data\""
   ]
  },
  {
   "cell_type": "code",
   "execution_count": 12,
   "metadata": {},
   "outputs": [],
   "source": [
    "arcpy.env.overwriteOutput = True"
   ]
  },
  {
   "cell_type": "code",
   "execution_count": 13,
   "metadata": {},
   "outputs": [],
   "source": [
    "fcSchool = \"school.shp\""
   ]
  },
  {
   "cell_type": "code",
   "execution_count": 14,
   "metadata": {},
   "outputs": [],
   "source": [
    "fields = arcpy.ListFields(fcSchool)"
   ]
  },
  {
   "cell_type": "code",
   "execution_count": 17,
   "metadata": {},
   "outputs": [
    {
     "name": "stdout",
     "output_type": "stream",
     "text": [
      "FID is a type of OID with a length of 4\n",
      "Shape is a type of Geometry with a length of 0\n",
      "NAME is a type of String with a length of 32\n",
      "ADDRESS is a type of String with a length of 21\n",
      "TYPE is a type of String with a length of 15\n",
      "LONG_ is a type of Double with a length of 19\n",
      "LAT is a type of Double with a length of 19\n",
      "URL is a type of String with a length of 54\n",
      "PHONE is a type of String with a length of 20\n",
      "xCoord is a type of Double with a length of 19\n",
      "yCoord is a type of Double with a length of 19\n"
     ]
    }
   ],
   "source": [
    "for field in fields:\n",
    "    print(\"{0} is a type of {1} with a length of {2}\".format(field.name, field.type, field.length))"
   ]
  },
  {
   "cell_type": "code",
   "execution_count": 18,
   "metadata": {},
   "outputs": [],
   "source": [
    "rows = arcpy.da.SearchCursor(fcSchool, [\"LONG_\", \"LAT\", \"NAME\"])"
   ]
  },
  {
   "cell_type": "code",
   "execution_count": 19,
   "metadata": {},
   "outputs": [
    {
     "name": "stdout",
     "output_type": "stream",
     "text": [
      "(-82.88975, 40.10114, 'CENTRAL COLLEGE CHRISTIAN CENTER')\n",
      "(-82.88914, 40.10286, 'CENTRAL COLLEGE')\n",
      "(-82.89396, 40.11537, 'MCVAY')\n",
      "(-82.93311, 40.13506, 'ST. PAUL')\n",
      "(-82.92334, 40.11954, 'BLENDON')\n",
      "(-82.92336, 40.11791, 'WESTERVILLE SOUTH')\n",
      "(-82.897, 40.13305, 'WESTERVILLE NORTH')\n",
      "(-82.90133, 40.13313, 'ROBERT FROST')\n",
      "(-82.92883, 40.12725, 'EMERSON')\n",
      "(-82.93328, 40.11822, 'LONGFELLOW')\n",
      "(-82.91306, 40.10597, 'POINTVIEW')\n",
      "(-82.90116, 40.13558, 'HERITAGE')\n",
      "(-82.90829, 40.11432, 'CHERRINGTON')\n",
      "(-82.93064, 40.12432, 'HANBY')\n",
      "(-82.92472, 40.12211, 'WHITTIER')\n",
      "(-82.90008, 40.12225, 'WALNUT SPRINGS')\n",
      "(-82.90221, 40.11977, 'MARK TWAIN')\n"
     ]
    }
   ],
   "source": [
    "for row in rows:\n",
    "    print(row)"
   ]
  },
  {
   "cell_type": "code",
   "execution_count": 61,
   "metadata": {},
   "outputs": [],
   "source": [
    "expression = u\"{} LIKE 'WESTERVILLE%'\".format(arcpy.AddFieldDelimiters(fcSchool, \"NAME\"))"
   ]
  },
  {
   "cell_type": "code",
   "execution_count": 62,
   "metadata": {},
   "outputs": [
    {
     "name": "stdout",
     "output_type": "stream",
     "text": [
      "\"NAME\" LIKE 'WESTERVILLE%'\n"
     ]
    }
   ],
   "source": [
    "print(expression)"
   ]
  },
  {
   "cell_type": "code",
   "execution_count": 58,
   "metadata": {},
   "outputs": [
    {
     "name": "stdout",
     "output_type": "stream",
     "text": [
      "\"NAME\" LIKE'WESTERVILLE%'\n"
     ]
    }
   ],
   "source": [
    "manualExpression = '\"NAME\" LIKE'+ \"'WESTERVILLE%'\"\n",
    "print(manualExpression)"
   ]
  },
  {
   "cell_type": "code",
   "execution_count": 63,
   "metadata": {},
   "outputs": [],
   "source": [
    "rows = arcpy.da.SearchCursor(fcSchool, [\"LONG_\", \"LAT\", \"NAME\"], expression)"
   ]
  },
  {
   "cell_type": "code",
   "execution_count": 64,
   "metadata": {},
   "outputs": [
    {
     "name": "stdout",
     "output_type": "stream",
     "text": [
      "(-82.92336, 40.11791, 'WESTERVILLE SOUTH')\n",
      "(-82.897, 40.13305, 'WESTERVILLE NORTH')\n"
     ]
    }
   ],
   "source": [
    "for row in rows:\n",
    "    print(row)"
   ]
  },
  {
   "cell_type": "code",
   "execution_count": null,
   "metadata": {},
   "outputs": [],
   "source": []
  }
 ],
 "metadata": {
  "kernelspec": {
   "display_name": "ArcGISPro",
   "language": "Python",
   "name": "python3"
  },
  "language_info": {
   "file_extension": ".py",
   "name": "python",
   "version": "3"
  }
 },
 "nbformat": 4,
 "nbformat_minor": 2
}
